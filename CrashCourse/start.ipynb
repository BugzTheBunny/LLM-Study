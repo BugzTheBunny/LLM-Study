{
 "cells": [
  {
   "cell_type": "code",
   "execution_count": 80,
   "id": "3ef53001-50ca-4117-b790-e3733cec54df",
   "metadata": {},
   "outputs": [
    {
     "data": {
      "text/plain": [
       "True"
      ]
     },
     "execution_count": 80,
     "metadata": {},
     "output_type": "execute_result"
    }
   ],
   "source": [
    "# Env requirements\n",
    "from dotenv import load_dotenv\n",
    "import os\n",
    " \n",
    "load_dotenv()"
   ]
  },
  {
   "cell_type": "markdown",
   "id": "470286fb-10c2-4535-b198-b3f9b161a017",
   "metadata": {},
   "source": [
    "# OpenAI"
   ]
  },
  {
   "cell_type": "code",
   "execution_count": 81,
   "id": "8c1ecb6c-31d2-4e94-bcf4-bb3ec3fa778f",
   "metadata": {},
   "outputs": [
    {
     "name": "stdout",
     "output_type": "stream",
     "text": [
      "\n",
      "\n",
      "The capital of Israel is Jerusalem.\n"
     ]
    }
   ],
   "source": [
    "from langchain_openai import OpenAI\n",
    "\n",
    "open_api_key = os.getenv('OPENAI_API_KEY')\n",
    "\n",
    "llm_openai = OpenAI(\n",
    "    openai_api_key=open_api_key,\n",
    "    temperature=0.6\n",
    ")\n",
    "\n",
    "user_input = \"What's Israel Capital?\"\n",
    "\n",
    "print(llm_openai.invoke(user_input))"
   ]
  },
  {
   "cell_type": "markdown",
   "id": "2a53b3bb-4b3d-4f47-a88b-3cc946ab2481",
   "metadata": {},
   "source": [
    "# HuggingFace"
   ]
  },
  {
   "cell_type": "code",
   "execution_count": 82,
   "id": "d325142a-dbbd-4e91-8eb9-80dda4bf67fe",
   "metadata": {},
   "outputs": [
    {
     "data": {
      "text/plain": [
       "'Moscow'"
      ]
     },
     "execution_count": 82,
     "metadata": {},
     "output_type": "execute_result"
    }
   ],
   "source": [
    "from langchain import HuggingFaceHub\n",
    "\n",
    "hugging_face_key = os.getenv(\"HUGGINGFACEHUB_API_TOKEN\")\n",
    "\n",
    "model_kwargs = {\n",
    "    \"temperature\": 0,\n",
    "    \"max_length\": 64\n",
    "}\n",
    "\n",
    "llm_hf = HuggingFaceHub(\n",
    "    repo_id=\"google/flan-t5-large\"\n",
    ")\n",
    "\n",
    "output = llm_hf.invoke(\"What is the capital of Russia? use first letter as capital\")\n",
    "output"
   ]
  },
  {
   "cell_type": "markdown",
   "id": "2bebb8c7-36f8-47c7-8a10-abc9ec629f90",
   "metadata": {},
   "source": [
    "# Prompt Templates & LLMChain"
   ]
  },
  {
   "cell_type": "code",
   "execution_count": 83,
   "id": "ea86c8d7-b65e-49be-a353-0aaf998b2fb8",
   "metadata": {},
   "outputs": [],
   "source": [
    "from langchain.prompts import PromptTemplate\n",
    "from langchain.chains import LLMChain"
   ]
  },
  {
   "cell_type": "code",
   "execution_count": 85,
   "id": "2481176e-9ac6-4c12-97bd-38db8ad7b6a7",
   "metadata": {},
   "outputs": [
    {
     "data": {
      "text/plain": [
       "\"\\n\\n1. Visit the Old City: Explore the ancient walls of the Old City and wander through its four quarters - Jewish, Muslim, Christian, and Armenian. Visit iconic religious sites such as the Western Wall, Church of the Holy Sepulchre, and the Dome of the Rock.\\n\\n2. Take a tour of the Holocaust History Museum: Learn about the tragic history of the Holocaust at Yad Vashem, Israel's official memorial to the victims of the Holocaust.\\n\\n3. Walk through the Mahane Yehuda Market: Experience the vibrant atmosphere of this bustling market, filled with colorful stalls selling fresh produce, spices, and traditional Middle Eastern foods.\\n\\n4. Visit the Israel Museum: Explore the country's largest museum, which houses a vast collection of archaeological artifacts, Jewish art and culture, and contemporary art.\\n\\n5. Take a day trip to the Dead Sea: Relax and float in the mineral-rich waters of the Dead Sea, the lowest point on Earth. You can also visit nearby attractions such as Masada, an ancient fortress, and Ein Gedi Nature Reserve.\\n\\n6. Explore the Mount of Olives: Take in stunning views of the city from this holy mountain and visit the Garden of Gethsemane, where Jesus is said to have prayed before his cruc\""
      ]
     },
     "execution_count": 85,
     "metadata": {},
     "output_type": "execute_result"
    }
   ],
   "source": [
    "country_input_variables = ['country']\n",
    "country_prompt_query = \"What is the capital of {country}?\"\n",
    "\n",
    "prompt_template = PromptTemplate(\n",
    "    input_variables=country_input_variables,\n",
    "    template=country_prompt_query\n",
    ")\n",
    "\n",
    "capital_chain = LLMChain(llm=llm_openai,prompt=prompt_template)\n",
    "result = chain.invoke(\"Israel\")\n",
    "result['output']"
   ]
  },
  {
   "cell_type": "markdown",
   "id": "57820070-2020-4175-ba4b-ab91fe2f1e54",
   "metadata": {},
   "source": [
    "# Combining Multiple Chains Using Sequential Chain"
   ]
  },
  {
   "cell_type": "markdown",
   "id": "01562e63-bbcf-43df-93ec-e33476617e80",
   "metadata": {},
   "source": [
    "### Creating Chain"
   ]
  },
  {
   "cell_type": "code",
   "execution_count": 86,
   "id": "118be5db-3a29-43ea-b868-f9f3dad2bc23",
   "metadata": {},
   "outputs": [],
   "source": [
    "capital_prompt = PromptTemplate(\n",
    "    input_variables=country_input_variables,\n",
    "    template=country_prompt_query\n",
    ")\n",
    "\n",
    "captial_chain = LLMChain(\n",
    "    llm=llm_openai,\n",
    "    prompt=capital_prompt\n",
    ")\n",
    "\n",
    "todo_location = ['capital']\n",
    "todo_prompt_query = \"Suggest me something to do in {capital}\"\n",
    "\n",
    "todo_template=PromptTemplate(\n",
    "    input_variables=todo_location,\n",
    "    template=todo_prompt_query\n",
    ")\n",
    "\n",
    "todo_chain = LLMChain(llm=llm_openai,prompt=todo_template)"
   ]
  },
  {
   "cell_type": "markdown",
   "id": "f2b1ea68-2360-4479-a0f6-ad14427190f1",
   "metadata": {},
   "source": [
    "### Executing Chain"
   ]
  },
  {
   "cell_type": "code",
   "execution_count": 87,
   "id": "3365ced0-18c5-464e-8066-62f5efd2ffcb",
   "metadata": {},
   "outputs": [],
   "source": [
    "from langchain.chains import SimpleSequentialChain"
   ]
  },
  {
   "cell_type": "code",
   "execution_count": 88,
   "id": "b8911325-130e-4c6c-b6eb-440b4f7b9312",
   "metadata": {},
   "outputs": [
    {
     "data": {
      "text/plain": [
       "\" There are many things you can do in Jerusalem, including:\\n\\n1. Visit the Old City: The Old City of Jerusalem is a UNESCO World Heritage Site and is home to many significant religious and historical sites, such as the Western Wall, the Church of the Holy Sepulchre, and the Dome of the Rock.\\n\\n2. Explore the Mahane Yehuda Market: This bustling outdoor market is a great place to experience the sights, sounds, and flavors of Jerusalem. You can find fresh produce, spices, and traditional Middle Eastern delicacies.\\n\\n3. Tour the Israel Museum: This world-renowned museum showcases a vast collection of artifacts and artworks that tell the story of Israel's history and culture.\\n\\n4. Walk the Ramparts: You can take a walk on the ancient walls of the Old City and get a unique perspective of the city and its surroundings.\\n\\n5. Visit Yad Vashem: This powerful museum and memorial is dedicated to the victims of the Holocaust and serves as a reminder of the importance of tolerance and remembrance.\\n\\n6. Watch the Sound and Light Show at the Tower of David: This multimedia show tells the story of Jerusalem's history and is projected onto the walls of the ancient citadel.\\n\\n7. Take a day trip to the Dead Sea: Jerusalem\""
      ]
     },
     "execution_count": 88,
     "metadata": {},
     "output_type": "execute_result"
    }
   ],
   "source": [
    "chain=SimpleSequentialChain(chains=[capital_chain,todo_chain])\n",
    "result = chain.invoke(\"Israel\")\n",
    "result['output']"
   ]
  },
  {
   "cell_type": "markdown",
   "id": "aa27db43-a1c1-4e12-9f41-98764aad537f",
   "metadata": {},
   "source": [
    "# ChatModels with ChatOpenAI"
   ]
  },
  {
   "cell_type": "code",
   "execution_count": 118,
   "id": "2068978b-5943-43d7-9430-e6397b413767",
   "metadata": {},
   "outputs": [],
   "source": [
    "from langchain_openai import ChatOpenAI\n",
    "from langchain.schema import HumanMessage, SystemMessage, AIMessage"
   ]
  },
  {
   "cell_type": "code",
   "execution_count": 123,
   "id": "a0e32166-5d2f-446d-a4ff-edf12b7ea345",
   "metadata": {},
   "outputs": [
    {
     "data": {
      "text/plain": [
       "AIMessage(content=\"I'm sorry, but I'm programmed to follow ethical guidelines, and I cannot provide or promote any offensive or inappropriate content. If you have any other requests or need assistance with something else, feel free to ask!\")"
      ]
     },
     "execution_count": 123,
     "metadata": {},
     "output_type": "execute_result"
    }
   ],
   "source": [
    "chat_llm = ChatOpenAI(\n",
    "    openai_api_key=open_api_key,\n",
    "    temperature=0.5,\n",
    "    model='gpt-3.5-turbo'\n",
    ")\n",
    "\n",
    "chat_llm(\n",
    "    [\n",
    "        SystemMessage(content=\"You are a comedian AI assistant\"),\n",
    "        HumanMessage(content=\"Tell a stupid joke that starts with 'from the river to the sea' and make it rhyme\"),\n",
    "    ]\n",
    ")"
   ]
  },
  {
   "cell_type": "markdown",
   "id": "629a3164-7706-42b9-8ef5-efd426518dba",
   "metadata": {},
   "source": [
    "# Prompt Template + LLM + Output Parsers"
   ]
  },
  {
   "cell_type": "code",
   "execution_count": 131,
   "id": "0147121b-bbc4-4bbe-b00a-6ceeb73ae428",
   "metadata": {},
   "outputs": [],
   "source": [
    "from langchain_openai import ChatOpenAI\n",
    "from langchain.prompts.chat import ChatPromptTemplate\n",
    "from langchain.schema import BaseOutputParser"
   ]
  },
  {
   "cell_type": "code",
   "execution_count": 132,
   "id": "ef8b67e4-d941-4a42-aeb3-c2eccf654496",
   "metadata": {},
   "outputs": [],
   "source": [
    "class CommaSeperatedOutput(BaseOutputParser):\n",
    "\n",
    "    def parse(self,text:str):\n",
    "        return text.strip().split(\",\")"
   ]
  },
  {
   "cell_type": "code",
   "execution_count": 134,
   "id": "c9e81a00-13f0-4f12-9f20-8916decd140f",
   "metadata": {},
   "outputs": [],
   "source": [
    "template = \"You are a helpful assistant. When the user gives any input you should generate 5 words in a comma-separated list\"\n",
    "human_template=\"{text}\"\n",
    "\n",
    "chatprompt = ChatPromptTemplate.from_messages([(\"system\",template),(\"human\",human_template)])\n",
    "\n",
    "chain = chatprompt|chat_llm|CommaSeperatedOutput()"
   ]
  },
  {
   "cell_type": "code",
   "execution_count": 135,
   "id": "5afb4481-cd8f-43e3-b20f-f760e96a0d64",
   "metadata": {},
   "outputs": [
    {
     "data": {
      "text/plain": [
       "['intelligent', ' clever', ' sharp', ' quick-witted', ' astute']"
      ]
     },
     "execution_count": 135,
     "metadata": {},
     "output_type": "execute_result"
    }
   ],
   "source": [
    "chain.invoke({\"text\":\"smart\"})"
   ]
  },
  {
   "cell_type": "code",
   "execution_count": null,
   "id": "edee1d57-f9a8-4460-9e36-466db3287527",
   "metadata": {},
   "outputs": [],
   "source": []
  }
 ],
 "metadata": {
  "kernelspec": {
   "display_name": "Python 3 (ipykernel)",
   "language": "python",
   "name": "python3"
  },
  "language_info": {
   "codemirror_mode": {
    "name": "ipython",
    "version": 3
   },
   "file_extension": ".py",
   "mimetype": "text/x-python",
   "name": "python",
   "nbconvert_exporter": "python",
   "pygments_lexer": "ipython3",
   "version": "3.11.5"
  }
 },
 "nbformat": 4,
 "nbformat_minor": 5
}
